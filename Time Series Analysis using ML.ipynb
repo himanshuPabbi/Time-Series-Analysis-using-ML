{
 "cells": [
  {
   "cell_type": "code",
   "execution_count": 1,
   "id": "9daa3112",
   "metadata": {},
   "outputs": [],
   "source": [
    "import pandas as pd"
   ]
  },
  {
   "cell_type": "code",
   "execution_count": 2,
   "id": "b1148edc",
   "metadata": {},
   "outputs": [],
   "source": [
    "import matplotlib.pyplot as plt"
   ]
  },
  {
   "cell_type": "code",
   "execution_count": 3,
   "id": "25a44427",
   "metadata": {},
   "outputs": [],
   "source": [
    "import seaborn as sns"
   ]
  },
  {
   "cell_type": "code",
   "execution_count": 37,
   "id": "80e28d91",
   "metadata": {},
   "outputs": [],
   "source": [
    "from sklearn.metrics import accuracy_score"
   ]
  },
  {
   "cell_type": "code",
   "execution_count": 4,
   "id": "dd4c81f5",
   "metadata": {},
   "outputs": [],
   "source": [
    "df=pd.read_csv(\"Month_Value_1.csv\")\n"
   ]
  },
  {
   "cell_type": "code",
   "execution_count": 5,
   "id": "d5105e8d",
   "metadata": {},
   "outputs": [
    {
     "data": {
      "text/html": [
       "<div>\n",
       "<style scoped>\n",
       "    .dataframe tbody tr th:only-of-type {\n",
       "        vertical-align: middle;\n",
       "    }\n",
       "\n",
       "    .dataframe tbody tr th {\n",
       "        vertical-align: top;\n",
       "    }\n",
       "\n",
       "    .dataframe thead th {\n",
       "        text-align: right;\n",
       "    }\n",
       "</style>\n",
       "<table border=\"1\" class=\"dataframe\">\n",
       "  <thead>\n",
       "    <tr style=\"text-align: right;\">\n",
       "      <th></th>\n",
       "      <th>Period</th>\n",
       "      <th>Revenue</th>\n",
       "      <th>Sales_quantity</th>\n",
       "      <th>Average_cost</th>\n",
       "      <th>The_average_annual_payroll_of_the_region</th>\n",
       "    </tr>\n",
       "  </thead>\n",
       "  <tbody>\n",
       "    <tr>\n",
       "      <th>0</th>\n",
       "      <td>01.01.2015</td>\n",
       "      <td>1.601007e+07</td>\n",
       "      <td>12729.0</td>\n",
       "      <td>1257.763541</td>\n",
       "      <td>30024676.0</td>\n",
       "    </tr>\n",
       "    <tr>\n",
       "      <th>1</th>\n",
       "      <td>01.02.2015</td>\n",
       "      <td>1.580759e+07</td>\n",
       "      <td>11636.0</td>\n",
       "      <td>1358.507000</td>\n",
       "      <td>30024676.0</td>\n",
       "    </tr>\n",
       "    <tr>\n",
       "      <th>2</th>\n",
       "      <td>01.03.2015</td>\n",
       "      <td>2.204715e+07</td>\n",
       "      <td>15922.0</td>\n",
       "      <td>1384.697024</td>\n",
       "      <td>30024676.0</td>\n",
       "    </tr>\n",
       "    <tr>\n",
       "      <th>3</th>\n",
       "      <td>01.04.2015</td>\n",
       "      <td>1.881458e+07</td>\n",
       "      <td>15227.0</td>\n",
       "      <td>1235.606705</td>\n",
       "      <td>30024676.0</td>\n",
       "    </tr>\n",
       "    <tr>\n",
       "      <th>4</th>\n",
       "      <td>01.05.2015</td>\n",
       "      <td>1.402148e+07</td>\n",
       "      <td>8620.0</td>\n",
       "      <td>1626.621765</td>\n",
       "      <td>30024676.0</td>\n",
       "    </tr>\n",
       "  </tbody>\n",
       "</table>\n",
       "</div>"
      ],
      "text/plain": [
       "       Period       Revenue  Sales_quantity  Average_cost  \\\n",
       "0  01.01.2015  1.601007e+07         12729.0   1257.763541   \n",
       "1  01.02.2015  1.580759e+07         11636.0   1358.507000   \n",
       "2  01.03.2015  2.204715e+07         15922.0   1384.697024   \n",
       "3  01.04.2015  1.881458e+07         15227.0   1235.606705   \n",
       "4  01.05.2015  1.402148e+07          8620.0   1626.621765   \n",
       "\n",
       "   The_average_annual_payroll_of_the_region  \n",
       "0                                30024676.0  \n",
       "1                                30024676.0  \n",
       "2                                30024676.0  \n",
       "3                                30024676.0  \n",
       "4                                30024676.0  "
      ]
     },
     "execution_count": 5,
     "metadata": {},
     "output_type": "execute_result"
    }
   ],
   "source": [
    "df.head()"
   ]
  },
  {
   "cell_type": "code",
   "execution_count": 6,
   "id": "6d1a2e1b",
   "metadata": {},
   "outputs": [
    {
     "data": {
      "text/html": [
       "<div>\n",
       "<style scoped>\n",
       "    .dataframe tbody tr th:only-of-type {\n",
       "        vertical-align: middle;\n",
       "    }\n",
       "\n",
       "    .dataframe tbody tr th {\n",
       "        vertical-align: top;\n",
       "    }\n",
       "\n",
       "    .dataframe thead th {\n",
       "        text-align: right;\n",
       "    }\n",
       "</style>\n",
       "<table border=\"1\" class=\"dataframe\">\n",
       "  <thead>\n",
       "    <tr style=\"text-align: right;\">\n",
       "      <th></th>\n",
       "      <th>Period</th>\n",
       "      <th>Revenue</th>\n",
       "      <th>Sales_quantity</th>\n",
       "      <th>Average_cost</th>\n",
       "      <th>The_average_annual_payroll_of_the_region</th>\n",
       "    </tr>\n",
       "  </thead>\n",
       "  <tbody>\n",
       "    <tr>\n",
       "      <th>91</th>\n",
       "      <td>01.08.2022</td>\n",
       "      <td>NaN</td>\n",
       "      <td>NaN</td>\n",
       "      <td>NaN</td>\n",
       "      <td>NaN</td>\n",
       "    </tr>\n",
       "    <tr>\n",
       "      <th>92</th>\n",
       "      <td>01.09.2022</td>\n",
       "      <td>NaN</td>\n",
       "      <td>NaN</td>\n",
       "      <td>NaN</td>\n",
       "      <td>NaN</td>\n",
       "    </tr>\n",
       "    <tr>\n",
       "      <th>93</th>\n",
       "      <td>01.10.2022</td>\n",
       "      <td>NaN</td>\n",
       "      <td>NaN</td>\n",
       "      <td>NaN</td>\n",
       "      <td>NaN</td>\n",
       "    </tr>\n",
       "    <tr>\n",
       "      <th>94</th>\n",
       "      <td>01.11.2022</td>\n",
       "      <td>NaN</td>\n",
       "      <td>NaN</td>\n",
       "      <td>NaN</td>\n",
       "      <td>NaN</td>\n",
       "    </tr>\n",
       "    <tr>\n",
       "      <th>95</th>\n",
       "      <td>01.12.2022</td>\n",
       "      <td>NaN</td>\n",
       "      <td>NaN</td>\n",
       "      <td>NaN</td>\n",
       "      <td>NaN</td>\n",
       "    </tr>\n",
       "  </tbody>\n",
       "</table>\n",
       "</div>"
      ],
      "text/plain": [
       "        Period  Revenue  Sales_quantity  Average_cost  \\\n",
       "91  01.08.2022      NaN             NaN           NaN   \n",
       "92  01.09.2022      NaN             NaN           NaN   \n",
       "93  01.10.2022      NaN             NaN           NaN   \n",
       "94  01.11.2022      NaN             NaN           NaN   \n",
       "95  01.12.2022      NaN             NaN           NaN   \n",
       "\n",
       "    The_average_annual_payroll_of_the_region  \n",
       "91                                       NaN  \n",
       "92                                       NaN  \n",
       "93                                       NaN  \n",
       "94                                       NaN  \n",
       "95                                       NaN  "
      ]
     },
     "execution_count": 6,
     "metadata": {},
     "output_type": "execute_result"
    }
   ],
   "source": [
    "df.tail()"
   ]
  },
  {
   "cell_type": "code",
   "execution_count": 7,
   "id": "b65fcf66",
   "metadata": {},
   "outputs": [
    {
     "data": {
      "text/plain": [
       "(96, 5)"
      ]
     },
     "execution_count": 7,
     "metadata": {},
     "output_type": "execute_result"
    }
   ],
   "source": [
    "df.shape"
   ]
  },
  {
   "cell_type": "code",
   "execution_count": 8,
   "id": "f195398e",
   "metadata": {},
   "outputs": [
    {
     "name": "stdout",
     "output_type": "stream",
     "text": [
      "<class 'pandas.core.frame.DataFrame'>\n",
      "RangeIndex: 96 entries, 0 to 95\n",
      "Data columns (total 5 columns):\n",
      " #   Column                                    Non-Null Count  Dtype  \n",
      "---  ------                                    --------------  -----  \n",
      " 0   Period                                    96 non-null     object \n",
      " 1   Revenue                                   64 non-null     float64\n",
      " 2   Sales_quantity                            64 non-null     float64\n",
      " 3   Average_cost                              64 non-null     float64\n",
      " 4   The_average_annual_payroll_of_the_region  64 non-null     float64\n",
      "dtypes: float64(4), object(1)\n",
      "memory usage: 3.9+ KB\n"
     ]
    }
   ],
   "source": [
    "df.info()"
   ]
  },
  {
   "cell_type": "code",
   "execution_count": 9,
   "id": "2ca4d7b5",
   "metadata": {},
   "outputs": [
    {
     "data": {
      "text/html": [
       "<div>\n",
       "<style scoped>\n",
       "    .dataframe tbody tr th:only-of-type {\n",
       "        vertical-align: middle;\n",
       "    }\n",
       "\n",
       "    .dataframe tbody tr th {\n",
       "        vertical-align: top;\n",
       "    }\n",
       "\n",
       "    .dataframe thead th {\n",
       "        text-align: right;\n",
       "    }\n",
       "</style>\n",
       "<table border=\"1\" class=\"dataframe\">\n",
       "  <thead>\n",
       "    <tr style=\"text-align: right;\">\n",
       "      <th></th>\n",
       "      <th>Revenue</th>\n",
       "      <th>Sales_quantity</th>\n",
       "      <th>Average_cost</th>\n",
       "      <th>The_average_annual_payroll_of_the_region</th>\n",
       "    </tr>\n",
       "  </thead>\n",
       "  <tbody>\n",
       "    <tr>\n",
       "      <th>count</th>\n",
       "      <td>6.400000e+01</td>\n",
       "      <td>64.000000</td>\n",
       "      <td>64.000000</td>\n",
       "      <td>6.400000e+01</td>\n",
       "    </tr>\n",
       "    <tr>\n",
       "      <th>mean</th>\n",
       "      <td>3.236045e+07</td>\n",
       "      <td>19197.375000</td>\n",
       "      <td>1695.061159</td>\n",
       "      <td>2.869083e+07</td>\n",
       "    </tr>\n",
       "    <tr>\n",
       "      <th>std</th>\n",
       "      <td>1.164150e+07</td>\n",
       "      <td>6591.287257</td>\n",
       "      <td>296.844793</td>\n",
       "      <td>1.057191e+06</td>\n",
       "    </tr>\n",
       "    <tr>\n",
       "      <th>min</th>\n",
       "      <td>1.402148e+07</td>\n",
       "      <td>8314.000000</td>\n",
       "      <td>1110.576805</td>\n",
       "      <td>2.740647e+07</td>\n",
       "    </tr>\n",
       "    <tr>\n",
       "      <th>25%</th>\n",
       "      <td>2.242655e+07</td>\n",
       "      <td>15065.500000</td>\n",
       "      <td>1499.142841</td>\n",
       "      <td>2.782857e+07</td>\n",
       "    </tr>\n",
       "    <tr>\n",
       "      <th>50%</th>\n",
       "      <td>3.209088e+07</td>\n",
       "      <td>18368.000000</td>\n",
       "      <td>1654.399798</td>\n",
       "      <td>2.819785e+07</td>\n",
       "    </tr>\n",
       "    <tr>\n",
       "      <th>75%</th>\n",
       "      <td>3.992999e+07</td>\n",
       "      <td>22856.250000</td>\n",
       "      <td>1916.401096</td>\n",
       "      <td>2.987852e+07</td>\n",
       "    </tr>\n",
       "    <tr>\n",
       "      <th>max</th>\n",
       "      <td>5.875647e+07</td>\n",
       "      <td>38069.000000</td>\n",
       "      <td>2559.328184</td>\n",
       "      <td>3.002468e+07</td>\n",
       "    </tr>\n",
       "  </tbody>\n",
       "</table>\n",
       "</div>"
      ],
      "text/plain": [
       "            Revenue  Sales_quantity  Average_cost  \\\n",
       "count  6.400000e+01       64.000000     64.000000   \n",
       "mean   3.236045e+07    19197.375000   1695.061159   \n",
       "std    1.164150e+07     6591.287257    296.844793   \n",
       "min    1.402148e+07     8314.000000   1110.576805   \n",
       "25%    2.242655e+07    15065.500000   1499.142841   \n",
       "50%    3.209088e+07    18368.000000   1654.399798   \n",
       "75%    3.992999e+07    22856.250000   1916.401096   \n",
       "max    5.875647e+07    38069.000000   2559.328184   \n",
       "\n",
       "       The_average_annual_payroll_of_the_region  \n",
       "count                              6.400000e+01  \n",
       "mean                               2.869083e+07  \n",
       "std                                1.057191e+06  \n",
       "min                                2.740647e+07  \n",
       "25%                                2.782857e+07  \n",
       "50%                                2.819785e+07  \n",
       "75%                                2.987852e+07  \n",
       "max                                3.002468e+07  "
      ]
     },
     "execution_count": 9,
     "metadata": {},
     "output_type": "execute_result"
    }
   ],
   "source": [
    "df.describe()"
   ]
  },
  {
   "cell_type": "code",
   "execution_count": 10,
   "id": "110c7314",
   "metadata": {},
   "outputs": [
    {
     "data": {
      "text/plain": [
       "Index(['Period', 'Revenue', 'Sales_quantity', 'Average_cost',\n",
       "       'The_average_annual_payroll_of_the_region'],\n",
       "      dtype='object')"
      ]
     },
     "execution_count": 10,
     "metadata": {},
     "output_type": "execute_result"
    }
   ],
   "source": [
    "df.columns"
   ]
  },
  {
   "cell_type": "code",
   "execution_count": 11,
   "id": "560d48da",
   "metadata": {},
   "outputs": [
    {
     "data": {
      "text/plain": [
       "Period                                       0\n",
       "Revenue                                     32\n",
       "Sales_quantity                              32\n",
       "Average_cost                                32\n",
       "The_average_annual_payroll_of_the_region    32\n",
       "dtype: int64"
      ]
     },
     "execution_count": 11,
     "metadata": {},
     "output_type": "execute_result"
    }
   ],
   "source": [
    "df.isnull().sum()"
   ]
  },
  {
   "cell_type": "code",
   "execution_count": 12,
   "id": "3e45de1b",
   "metadata": {},
   "outputs": [],
   "source": [
    "df.dropna(inplace=True)"
   ]
  },
  {
   "cell_type": "code",
   "execution_count": 13,
   "id": "4c71b548",
   "metadata": {},
   "outputs": [
    {
     "data": {
      "text/html": [
       "<div>\n",
       "<style scoped>\n",
       "    .dataframe tbody tr th:only-of-type {\n",
       "        vertical-align: middle;\n",
       "    }\n",
       "\n",
       "    .dataframe tbody tr th {\n",
       "        vertical-align: top;\n",
       "    }\n",
       "\n",
       "    .dataframe thead th {\n",
       "        text-align: right;\n",
       "    }\n",
       "</style>\n",
       "<table border=\"1\" class=\"dataframe\">\n",
       "  <thead>\n",
       "    <tr style=\"text-align: right;\">\n",
       "      <th></th>\n",
       "      <th>Period</th>\n",
       "      <th>Revenue</th>\n",
       "      <th>Sales_quantity</th>\n",
       "      <th>Average_cost</th>\n",
       "      <th>The_average_annual_payroll_of_the_region</th>\n",
       "    </tr>\n",
       "  </thead>\n",
       "  <tbody>\n",
       "    <tr>\n",
       "      <th>0</th>\n",
       "      <td>01.01.2015</td>\n",
       "      <td>1.601007e+07</td>\n",
       "      <td>12729.0</td>\n",
       "      <td>1257.763541</td>\n",
       "      <td>30024676.0</td>\n",
       "    </tr>\n",
       "    <tr>\n",
       "      <th>1</th>\n",
       "      <td>01.02.2015</td>\n",
       "      <td>1.580759e+07</td>\n",
       "      <td>11636.0</td>\n",
       "      <td>1358.507000</td>\n",
       "      <td>30024676.0</td>\n",
       "    </tr>\n",
       "    <tr>\n",
       "      <th>2</th>\n",
       "      <td>01.03.2015</td>\n",
       "      <td>2.204715e+07</td>\n",
       "      <td>15922.0</td>\n",
       "      <td>1384.697024</td>\n",
       "      <td>30024676.0</td>\n",
       "    </tr>\n",
       "    <tr>\n",
       "      <th>3</th>\n",
       "      <td>01.04.2015</td>\n",
       "      <td>1.881458e+07</td>\n",
       "      <td>15227.0</td>\n",
       "      <td>1235.606705</td>\n",
       "      <td>30024676.0</td>\n",
       "    </tr>\n",
       "    <tr>\n",
       "      <th>4</th>\n",
       "      <td>01.05.2015</td>\n",
       "      <td>1.402148e+07</td>\n",
       "      <td>8620.0</td>\n",
       "      <td>1626.621765</td>\n",
       "      <td>30024676.0</td>\n",
       "    </tr>\n",
       "    <tr>\n",
       "      <th>...</th>\n",
       "      <td>...</td>\n",
       "      <td>...</td>\n",
       "      <td>...</td>\n",
       "      <td>...</td>\n",
       "      <td>...</td>\n",
       "    </tr>\n",
       "    <tr>\n",
       "      <th>59</th>\n",
       "      <td>01.12.2019</td>\n",
       "      <td>5.875647e+07</td>\n",
       "      <td>38069.0</td>\n",
       "      <td>1543.420464</td>\n",
       "      <td>29878525.0</td>\n",
       "    </tr>\n",
       "    <tr>\n",
       "      <th>60</th>\n",
       "      <td>01.01.2020</td>\n",
       "      <td>5.628830e+07</td>\n",
       "      <td>27184.0</td>\n",
       "      <td>2070.640850</td>\n",
       "      <td>29044998.0</td>\n",
       "    </tr>\n",
       "    <tr>\n",
       "      <th>61</th>\n",
       "      <td>01.02.2020</td>\n",
       "      <td>4.022524e+07</td>\n",
       "      <td>23509.0</td>\n",
       "      <td>1711.057181</td>\n",
       "      <td>29044998.0</td>\n",
       "    </tr>\n",
       "    <tr>\n",
       "      <th>62</th>\n",
       "      <td>01.03.2020</td>\n",
       "      <td>5.002217e+07</td>\n",
       "      <td>32569.0</td>\n",
       "      <td>1535.882748</td>\n",
       "      <td>29044998.0</td>\n",
       "    </tr>\n",
       "    <tr>\n",
       "      <th>63</th>\n",
       "      <td>01.04.2020</td>\n",
       "      <td>5.232069e+07</td>\n",
       "      <td>26615.0</td>\n",
       "      <td>1965.834790</td>\n",
       "      <td>29044998.0</td>\n",
       "    </tr>\n",
       "  </tbody>\n",
       "</table>\n",
       "<p>64 rows × 5 columns</p>\n",
       "</div>"
      ],
      "text/plain": [
       "        Period       Revenue  Sales_quantity  Average_cost  \\\n",
       "0   01.01.2015  1.601007e+07         12729.0   1257.763541   \n",
       "1   01.02.2015  1.580759e+07         11636.0   1358.507000   \n",
       "2   01.03.2015  2.204715e+07         15922.0   1384.697024   \n",
       "3   01.04.2015  1.881458e+07         15227.0   1235.606705   \n",
       "4   01.05.2015  1.402148e+07          8620.0   1626.621765   \n",
       "..         ...           ...             ...           ...   \n",
       "59  01.12.2019  5.875647e+07         38069.0   1543.420464   \n",
       "60  01.01.2020  5.628830e+07         27184.0   2070.640850   \n",
       "61  01.02.2020  4.022524e+07         23509.0   1711.057181   \n",
       "62  01.03.2020  5.002217e+07         32569.0   1535.882748   \n",
       "63  01.04.2020  5.232069e+07         26615.0   1965.834790   \n",
       "\n",
       "    The_average_annual_payroll_of_the_region  \n",
       "0                                 30024676.0  \n",
       "1                                 30024676.0  \n",
       "2                                 30024676.0  \n",
       "3                                 30024676.0  \n",
       "4                                 30024676.0  \n",
       "..                                       ...  \n",
       "59                                29878525.0  \n",
       "60                                29044998.0  \n",
       "61                                29044998.0  \n",
       "62                                29044998.0  \n",
       "63                                29044998.0  \n",
       "\n",
       "[64 rows x 5 columns]"
      ]
     },
     "execution_count": 13,
     "metadata": {},
     "output_type": "execute_result"
    }
   ],
   "source": [
    "df"
   ]
  },
  {
   "cell_type": "code",
   "execution_count": 14,
   "id": "d07603e2",
   "metadata": {},
   "outputs": [],
   "source": [
    "df['Period']=pd.to_datetime(df['Period'],format=\"%d.%m.%Y\")\n",
    "df['Period']=df['Period'].dt.to_period('M')"
   ]
  },
  {
   "cell_type": "code",
   "execution_count": 15,
   "id": "26b6db16",
   "metadata": {},
   "outputs": [
    {
     "data": {
      "text/html": [
       "<div>\n",
       "<style scoped>\n",
       "    .dataframe tbody tr th:only-of-type {\n",
       "        vertical-align: middle;\n",
       "    }\n",
       "\n",
       "    .dataframe tbody tr th {\n",
       "        vertical-align: top;\n",
       "    }\n",
       "\n",
       "    .dataframe thead th {\n",
       "        text-align: right;\n",
       "    }\n",
       "</style>\n",
       "<table border=\"1\" class=\"dataframe\">\n",
       "  <thead>\n",
       "    <tr style=\"text-align: right;\">\n",
       "      <th></th>\n",
       "      <th>Period</th>\n",
       "      <th>Revenue</th>\n",
       "      <th>Sales_quantity</th>\n",
       "      <th>Average_cost</th>\n",
       "      <th>The_average_annual_payroll_of_the_region</th>\n",
       "    </tr>\n",
       "  </thead>\n",
       "  <tbody>\n",
       "    <tr>\n",
       "      <th>0</th>\n",
       "      <td>2015-01</td>\n",
       "      <td>1.601007e+07</td>\n",
       "      <td>12729.0</td>\n",
       "      <td>1257.763541</td>\n",
       "      <td>30024676.0</td>\n",
       "    </tr>\n",
       "    <tr>\n",
       "      <th>1</th>\n",
       "      <td>2015-02</td>\n",
       "      <td>1.580759e+07</td>\n",
       "      <td>11636.0</td>\n",
       "      <td>1358.507000</td>\n",
       "      <td>30024676.0</td>\n",
       "    </tr>\n",
       "    <tr>\n",
       "      <th>2</th>\n",
       "      <td>2015-03</td>\n",
       "      <td>2.204715e+07</td>\n",
       "      <td>15922.0</td>\n",
       "      <td>1384.697024</td>\n",
       "      <td>30024676.0</td>\n",
       "    </tr>\n",
       "    <tr>\n",
       "      <th>3</th>\n",
       "      <td>2015-04</td>\n",
       "      <td>1.881458e+07</td>\n",
       "      <td>15227.0</td>\n",
       "      <td>1235.606705</td>\n",
       "      <td>30024676.0</td>\n",
       "    </tr>\n",
       "    <tr>\n",
       "      <th>4</th>\n",
       "      <td>2015-05</td>\n",
       "      <td>1.402148e+07</td>\n",
       "      <td>8620.0</td>\n",
       "      <td>1626.621765</td>\n",
       "      <td>30024676.0</td>\n",
       "    </tr>\n",
       "    <tr>\n",
       "      <th>...</th>\n",
       "      <td>...</td>\n",
       "      <td>...</td>\n",
       "      <td>...</td>\n",
       "      <td>...</td>\n",
       "      <td>...</td>\n",
       "    </tr>\n",
       "    <tr>\n",
       "      <th>59</th>\n",
       "      <td>2019-12</td>\n",
       "      <td>5.875647e+07</td>\n",
       "      <td>38069.0</td>\n",
       "      <td>1543.420464</td>\n",
       "      <td>29878525.0</td>\n",
       "    </tr>\n",
       "    <tr>\n",
       "      <th>60</th>\n",
       "      <td>2020-01</td>\n",
       "      <td>5.628830e+07</td>\n",
       "      <td>27184.0</td>\n",
       "      <td>2070.640850</td>\n",
       "      <td>29044998.0</td>\n",
       "    </tr>\n",
       "    <tr>\n",
       "      <th>61</th>\n",
       "      <td>2020-02</td>\n",
       "      <td>4.022524e+07</td>\n",
       "      <td>23509.0</td>\n",
       "      <td>1711.057181</td>\n",
       "      <td>29044998.0</td>\n",
       "    </tr>\n",
       "    <tr>\n",
       "      <th>62</th>\n",
       "      <td>2020-03</td>\n",
       "      <td>5.002217e+07</td>\n",
       "      <td>32569.0</td>\n",
       "      <td>1535.882748</td>\n",
       "      <td>29044998.0</td>\n",
       "    </tr>\n",
       "    <tr>\n",
       "      <th>63</th>\n",
       "      <td>2020-04</td>\n",
       "      <td>5.232069e+07</td>\n",
       "      <td>26615.0</td>\n",
       "      <td>1965.834790</td>\n",
       "      <td>29044998.0</td>\n",
       "    </tr>\n",
       "  </tbody>\n",
       "</table>\n",
       "<p>64 rows × 5 columns</p>\n",
       "</div>"
      ],
      "text/plain": [
       "     Period       Revenue  Sales_quantity  Average_cost  \\\n",
       "0   2015-01  1.601007e+07         12729.0   1257.763541   \n",
       "1   2015-02  1.580759e+07         11636.0   1358.507000   \n",
       "2   2015-03  2.204715e+07         15922.0   1384.697024   \n",
       "3   2015-04  1.881458e+07         15227.0   1235.606705   \n",
       "4   2015-05  1.402148e+07          8620.0   1626.621765   \n",
       "..      ...           ...             ...           ...   \n",
       "59  2019-12  5.875647e+07         38069.0   1543.420464   \n",
       "60  2020-01  5.628830e+07         27184.0   2070.640850   \n",
       "61  2020-02  4.022524e+07         23509.0   1711.057181   \n",
       "62  2020-03  5.002217e+07         32569.0   1535.882748   \n",
       "63  2020-04  5.232069e+07         26615.0   1965.834790   \n",
       "\n",
       "    The_average_annual_payroll_of_the_region  \n",
       "0                                 30024676.0  \n",
       "1                                 30024676.0  \n",
       "2                                 30024676.0  \n",
       "3                                 30024676.0  \n",
       "4                                 30024676.0  \n",
       "..                                       ...  \n",
       "59                                29878525.0  \n",
       "60                                29044998.0  \n",
       "61                                29044998.0  \n",
       "62                                29044998.0  \n",
       "63                                29044998.0  \n",
       "\n",
       "[64 rows x 5 columns]"
      ]
     },
     "execution_count": 15,
     "metadata": {},
     "output_type": "execute_result"
    }
   ],
   "source": [
    "df"
   ]
  },
  {
   "cell_type": "code",
   "execution_count": 16,
   "id": "753837a2",
   "metadata": {},
   "outputs": [
    {
     "name": "stdout",
     "output_type": "stream",
     "text": [
      "<class 'pandas.core.frame.DataFrame'>\n",
      "Int64Index: 64 entries, 0 to 63\n",
      "Data columns (total 5 columns):\n",
      " #   Column                                    Non-Null Count  Dtype    \n",
      "---  ------                                    --------------  -----    \n",
      " 0   Period                                    64 non-null     period[M]\n",
      " 1   Revenue                                   64 non-null     float64  \n",
      " 2   Sales_quantity                            64 non-null     float64  \n",
      " 3   Average_cost                              64 non-null     float64  \n",
      " 4   The_average_annual_payroll_of_the_region  64 non-null     float64  \n",
      "dtypes: float64(4), period[M](1)\n",
      "memory usage: 3.0 KB\n"
     ]
    }
   ],
   "source": [
    "df.info()"
   ]
  },
  {
   "cell_type": "code",
   "execution_count": 17,
   "id": "b461c43c",
   "metadata": {},
   "outputs": [
    {
     "data": {
      "text/html": [
       "<div>\n",
       "<style scoped>\n",
       "    .dataframe tbody tr th:only-of-type {\n",
       "        vertical-align: middle;\n",
       "    }\n",
       "\n",
       "    .dataframe tbody tr th {\n",
       "        vertical-align: top;\n",
       "    }\n",
       "\n",
       "    .dataframe thead th {\n",
       "        text-align: right;\n",
       "    }\n",
       "</style>\n",
       "<table border=\"1\" class=\"dataframe\">\n",
       "  <thead>\n",
       "    <tr style=\"text-align: right;\">\n",
       "      <th></th>\n",
       "      <th>Period</th>\n",
       "      <th>Revenue</th>\n",
       "    </tr>\n",
       "  </thead>\n",
       "  <tbody>\n",
       "    <tr>\n",
       "      <th>0</th>\n",
       "      <td>2015-01</td>\n",
       "      <td>1.601007e+07</td>\n",
       "    </tr>\n",
       "    <tr>\n",
       "      <th>1</th>\n",
       "      <td>2015-02</td>\n",
       "      <td>1.580759e+07</td>\n",
       "    </tr>\n",
       "    <tr>\n",
       "      <th>2</th>\n",
       "      <td>2015-03</td>\n",
       "      <td>2.204715e+07</td>\n",
       "    </tr>\n",
       "    <tr>\n",
       "      <th>3</th>\n",
       "      <td>2015-04</td>\n",
       "      <td>1.881458e+07</td>\n",
       "    </tr>\n",
       "    <tr>\n",
       "      <th>4</th>\n",
       "      <td>2015-05</td>\n",
       "      <td>1.402148e+07</td>\n",
       "    </tr>\n",
       "    <tr>\n",
       "      <th>...</th>\n",
       "      <td>...</td>\n",
       "      <td>...</td>\n",
       "    </tr>\n",
       "    <tr>\n",
       "      <th>59</th>\n",
       "      <td>2019-12</td>\n",
       "      <td>5.875647e+07</td>\n",
       "    </tr>\n",
       "    <tr>\n",
       "      <th>60</th>\n",
       "      <td>2020-01</td>\n",
       "      <td>5.628830e+07</td>\n",
       "    </tr>\n",
       "    <tr>\n",
       "      <th>61</th>\n",
       "      <td>2020-02</td>\n",
       "      <td>4.022524e+07</td>\n",
       "    </tr>\n",
       "    <tr>\n",
       "      <th>62</th>\n",
       "      <td>2020-03</td>\n",
       "      <td>5.002217e+07</td>\n",
       "    </tr>\n",
       "    <tr>\n",
       "      <th>63</th>\n",
       "      <td>2020-04</td>\n",
       "      <td>5.232069e+07</td>\n",
       "    </tr>\n",
       "  </tbody>\n",
       "</table>\n",
       "<p>64 rows × 2 columns</p>\n",
       "</div>"
      ],
      "text/plain": [
       "     Period       Revenue\n",
       "0   2015-01  1.601007e+07\n",
       "1   2015-02  1.580759e+07\n",
       "2   2015-03  2.204715e+07\n",
       "3   2015-04  1.881458e+07\n",
       "4   2015-05  1.402148e+07\n",
       "..      ...           ...\n",
       "59  2019-12  5.875647e+07\n",
       "60  2020-01  5.628830e+07\n",
       "61  2020-02  4.022524e+07\n",
       "62  2020-03  5.002217e+07\n",
       "63  2020-04  5.232069e+07\n",
       "\n",
       "[64 rows x 2 columns]"
      ]
     },
     "execution_count": 17,
     "metadata": {},
     "output_type": "execute_result"
    }
   ],
   "source": [
    "ts=df.loc[0:63,['Period','Revenue']]\n",
    "ts"
   ]
  },
  {
   "cell_type": "markdown",
   "id": "82cb546d",
   "metadata": {},
   "source": [
    "We have been given revenue values for continuous 64 months, we have to predict for 32 months"
   ]
  },
  {
   "cell_type": "code",
   "execution_count": 18,
   "id": "93dac3ac",
   "metadata": {},
   "outputs": [
    {
     "data": {
      "text/html": [
       "<div>\n",
       "<style scoped>\n",
       "    .dataframe tbody tr th:only-of-type {\n",
       "        vertical-align: middle;\n",
       "    }\n",
       "\n",
       "    .dataframe tbody tr th {\n",
       "        vertical-align: top;\n",
       "    }\n",
       "\n",
       "    .dataframe thead th {\n",
       "        text-align: right;\n",
       "    }\n",
       "</style>\n",
       "<table border=\"1\" class=\"dataframe\">\n",
       "  <thead>\n",
       "    <tr style=\"text-align: right;\">\n",
       "      <th></th>\n",
       "      <th>Period</th>\n",
       "      <th>Revenue</th>\n",
       "      <th>Month</th>\n",
       "      <th>Year</th>\n",
       "    </tr>\n",
       "  </thead>\n",
       "  <tbody>\n",
       "    <tr>\n",
       "      <th>0</th>\n",
       "      <td>2015-01</td>\n",
       "      <td>1.601007e+07</td>\n",
       "      <td>1</td>\n",
       "      <td>2015</td>\n",
       "    </tr>\n",
       "    <tr>\n",
       "      <th>1</th>\n",
       "      <td>2015-02</td>\n",
       "      <td>1.580759e+07</td>\n",
       "      <td>2</td>\n",
       "      <td>2015</td>\n",
       "    </tr>\n",
       "    <tr>\n",
       "      <th>2</th>\n",
       "      <td>2015-03</td>\n",
       "      <td>2.204715e+07</td>\n",
       "      <td>3</td>\n",
       "      <td>2015</td>\n",
       "    </tr>\n",
       "    <tr>\n",
       "      <th>3</th>\n",
       "      <td>2015-04</td>\n",
       "      <td>1.881458e+07</td>\n",
       "      <td>4</td>\n",
       "      <td>2015</td>\n",
       "    </tr>\n",
       "    <tr>\n",
       "      <th>4</th>\n",
       "      <td>2015-05</td>\n",
       "      <td>1.402148e+07</td>\n",
       "      <td>5</td>\n",
       "      <td>2015</td>\n",
       "    </tr>\n",
       "  </tbody>\n",
       "</table>\n",
       "</div>"
      ],
      "text/plain": [
       "    Period       Revenue  Month  Year\n",
       "0  2015-01  1.601007e+07      1  2015\n",
       "1  2015-02  1.580759e+07      2  2015\n",
       "2  2015-03  2.204715e+07      3  2015\n",
       "3  2015-04  1.881458e+07      4  2015\n",
       "4  2015-05  1.402148e+07      5  2015"
      ]
     },
     "execution_count": 18,
     "metadata": {},
     "output_type": "execute_result"
    }
   ],
   "source": [
    "ts['Month']=ts['Period'].dt.month\n",
    "ts['Year']=ts['Period'].dt.year\n",
    "ts.head()"
   ]
  },
  {
   "cell_type": "code",
   "execution_count": 19,
   "id": "e3c8be9d",
   "metadata": {},
   "outputs": [
    {
     "data": {
      "text/html": [
       "<div>\n",
       "<style scoped>\n",
       "    .dataframe tbody tr th:only-of-type {\n",
       "        vertical-align: middle;\n",
       "    }\n",
       "\n",
       "    .dataframe tbody tr th {\n",
       "        vertical-align: top;\n",
       "    }\n",
       "\n",
       "    .dataframe thead th {\n",
       "        text-align: right;\n",
       "    }\n",
       "</style>\n",
       "<table border=\"1\" class=\"dataframe\">\n",
       "  <thead>\n",
       "    <tr style=\"text-align: right;\">\n",
       "      <th></th>\n",
       "      <th>Revenue</th>\n",
       "      <th>Month</th>\n",
       "      <th>Year</th>\n",
       "    </tr>\n",
       "    <tr>\n",
       "      <th>Period</th>\n",
       "      <th></th>\n",
       "      <th></th>\n",
       "      <th></th>\n",
       "    </tr>\n",
       "  </thead>\n",
       "  <tbody>\n",
       "    <tr>\n",
       "      <th>2015-01</th>\n",
       "      <td>1.601007e+07</td>\n",
       "      <td>1</td>\n",
       "      <td>2015</td>\n",
       "    </tr>\n",
       "    <tr>\n",
       "      <th>2015-02</th>\n",
       "      <td>1.580759e+07</td>\n",
       "      <td>2</td>\n",
       "      <td>2015</td>\n",
       "    </tr>\n",
       "    <tr>\n",
       "      <th>2015-03</th>\n",
       "      <td>2.204715e+07</td>\n",
       "      <td>3</td>\n",
       "      <td>2015</td>\n",
       "    </tr>\n",
       "    <tr>\n",
       "      <th>2015-04</th>\n",
       "      <td>1.881458e+07</td>\n",
       "      <td>4</td>\n",
       "      <td>2015</td>\n",
       "    </tr>\n",
       "    <tr>\n",
       "      <th>2015-05</th>\n",
       "      <td>1.402148e+07</td>\n",
       "      <td>5</td>\n",
       "      <td>2015</td>\n",
       "    </tr>\n",
       "  </tbody>\n",
       "</table>\n",
       "</div>"
      ],
      "text/plain": [
       "              Revenue  Month  Year\n",
       "Period                            \n",
       "2015-01  1.601007e+07      1  2015\n",
       "2015-02  1.580759e+07      2  2015\n",
       "2015-03  2.204715e+07      3  2015\n",
       "2015-04  1.881458e+07      4  2015\n",
       "2015-05  1.402148e+07      5  2015"
      ]
     },
     "execution_count": 19,
     "metadata": {},
     "output_type": "execute_result"
    }
   ],
   "source": [
    "ts.set_index('Period',inplace=True)\n",
    "ts.head()"
   ]
  },
  {
   "cell_type": "code",
   "execution_count": 20,
   "id": "bdd62b43",
   "metadata": {},
   "outputs": [
    {
     "data": {
      "text/plain": [
       "<AxesSubplot:title={'center':'Revenue Data'}, xlabel='Period'>"
      ]
     },
     "execution_count": 20,
     "metadata": {},
     "output_type": "execute_result"
    },
    {
     "data": {
      "image/png": "[encoded data removed]",
      "text/plain": [
       "<Figure size 432x288 with 1 Axes>"
      ]
     },
     "metadata": {
      "needs_background": "light"
     },
     "output_type": "display_data"
    }
   ],
   "source": [
    "plt.title('Revenue Data')\n",
    "ts['Revenue'].plot()"
   ]
  },
  {
   "cell_type": "code",
   "execution_count": 21,
   "id": "77bec3da",
   "metadata": {},
   "outputs": [
    {
     "data": {
      "text/plain": [
       "<AxesSubplot:xlabel='Month', ylabel='Revenue'>"
      ]
     },
     "execution_count": 21,
     "metadata": {},
     "output_type": "execute_result"
    },
    {
     "data": {
      "image/png": "[encoded data removed]",
      "text/plain": [
       "<Figure size 432x288 with 1 Axes>"
      ]
     },
     "metadata": {
      "needs_background": "light"
     },
     "output_type": "display_data"
    }
   ],
   "source": [
    "sns.lineplot(x='Month',y='Revenue',data=ts)\n"
   ]
  },
  {
   "cell_type": "code",
   "execution_count": 22,
   "id": "43056002",
   "metadata": {},
   "outputs": [
    {
     "data": {
      "text/plain": [
       "<AxesSubplot:xlabel='Month', ylabel='Revenue'>"
      ]
     },
     "execution_count": 22,
     "metadata": {},
     "output_type": "execute_result"
    },
    {
     "data": {
      "image/png": "[encoded data removed]",
      "text/plain": [
       "<Figure size 432x288 with 1 Axes>"
      ]
     },
     "metadata": {
      "needs_background": "light"
     },
     "output_type": "display_data"
    }
   ],
   "source": [
    "sns.boxplot(x='Month',y='Revenue',data=ts)\n"
   ]
  },
  {
   "cell_type": "code",
   "execution_count": 23,
   "id": "58c578fd",
   "metadata": {},
   "outputs": [
    {
     "data": {
      "text/plain": [
       "<AxesSubplot:xlabel='Year', ylabel='Revenue'>"
      ]
     },
     "execution_count": 23,
     "metadata": {},
     "output_type": "execute_result"
    },
    {
     "data": {
      "image/png": "[encoded data removed]",
      "text/plain": [
       "<Figure size 432x288 with 1 Axes>"
      ]
     },
     "metadata": {
      "needs_background": "light"
     },
     "output_type": "display_data"
    }
   ],
   "source": [
    "sns.lineplot(x='Year',y='Revenue',data=ts)\n"
   ]
  },
  {
   "cell_type": "code",
   "execution_count": 24,
   "id": "108c86aa",
   "metadata": {},
   "outputs": [
    {
     "data": {
      "text/plain": [
       "<AxesSubplot:xlabel='Year', ylabel='Revenue'>"
      ]
     },
     "execution_count": 24,
     "metadata": {},
     "output_type": "execute_result"
    },
    {
     "data": {
      "image/png": "[encoded data removed]",
      "text/plain": [
       "<Figure size 432x288 with 1 Axes>"
      ]
     },
     "metadata": {
      "needs_background": "light"
     },
     "output_type": "display_data"
    }
   ],
   "source": [
    "sns.boxplot(x='Year',y='Revenue',data=ts)\n"
   ]
  },
  {
   "cell_type": "markdown",
   "id": "19b5ee1d",
   "metadata": {},
   "source": [
    "ADF test for checking the stationarity"
   ]
  },
  {
   "cell_type": "code",
   "execution_count": 25,
   "id": "6fb4b2bc",
   "metadata": {},
   "outputs": [
    {
     "name": "stdout",
     "output_type": "stream",
     "text": [
      "ADF statistics: -0.2691489356436307\n",
      "p-value: 0.9297615379617785\n",
      "Critical value 1%: -3.562878534649522\n",
      "Critical value 5%: -2.918973284023669\n",
      "Critical value 10%: -2.597393446745562\n"
     ]
    }
   ],
   "source": [
    "from statsmodels.tsa.stattools import adfuller\n",
    "\n",
    "result=adfuller(ts['Revenue'],autolag='AIC')\n",
    "\n",
    "print(f'ADF statistics: {result[0]}')\n",
    "print(f'p-value: {result[1]}')\n",
    "\n",
    "for key,value in result[4].items():\n",
    "    print(f'Critical value {key}: {value}')\n"
   ]
  },
  {
   "cell_type": "markdown",
   "id": "e39e4d17",
   "metadata": {},
   "source": [
    "The ADF test is used to determine whether a time series is stationary or not by testing the null hypothesis that the series has a unit root (non-stationary) against the alternative hypothesis that it does not have a unit root (stationary)\n",
    "\n",
    "adfuller(ts['Revenue'], autolag='AIC'): This function conducts the ADF test on the 'Revenue' time series. The autolag='AIC' parameter automatically selects the number of lags for the test based on the Akaike Information Criterion (AIC).\n",
    "\n",
    "result[0]: ADF statistic. This is a negative number. The more negative it is, the stronger the evidence against a unit root (i.e., for stationarity).\n",
    "\n",
    "result[1]: p-value. The null hypothesis of the ADF test is that the time series has a unit root (it is non-stationary). A low p-value (typically less than 0.05) suggests rejecting the null hypothesis and indicates stationarity.\n",
    "\n",
    "result[4]: Critical values at different confidence levels. These critical values are used to determine the significance of the ADF statistic. If the ADF statistic is less than the critical values, you can reject the null hypothesis"
   ]
  },
  {
   "cell_type": "markdown",
   "id": "57ba7f97",
   "metadata": {},
   "source": [
    "As p value is greater than 0.05, then null hypothesis cannot be reject. Therefore the series is non-stationary"
   ]
  },
  {
   "cell_type": "code",
   "execution_count": 26,
   "id": "bf93c15c",
   "metadata": {},
   "outputs": [
    {
     "data": {
      "text/plain": [
       "<AxesSubplot:xlabel='Period'>"
      ]
     },
     "execution_count": 26,
     "metadata": {},
     "output_type": "execute_result"
    },
    {
     "data": {
      "image/png": "[encoded data removed]",
      "text/plain": [
       "<Figure size 432x288 with 1 Axes>"
      ]
     },
     "metadata": {
      "needs_background": "light"
     },
     "output_type": "display_data"
    }
   ],
   "source": [
    "ma=ts['Revenue'].rolling(window=12,center=True,min_periods=6).mean()\n",
    "ax=ts['Revenue'].plot()\n",
    "ma.plot(ax=ax)\n"
   ]
  },
  {
   "cell_type": "markdown",
   "id": "2c2c2120",
   "metadata": {},
   "source": [
    "Accounts for trend and seasonality"
   ]
  },
  {
   "cell_type": "code",
   "execution_count": 27,
   "id": "e4a3e699",
   "metadata": {},
   "outputs": [],
   "source": [
    "from statsmodels.tsa.deterministic import CalendarFourier, DeterministicProcess\n",
    "\n",
    "fourier = CalendarFourier(freq=\"A\", order=10)\n",
    "\n",
    "dp = DeterministicProcess(\n",
    "    index=ts.index,\n",
    "    constant=True,               # dummy feature for bias (y-intercept)\n",
    "    order=1,                     # trend (order 1 means linear)\n",
    "    seasonal=True,               # weekly seasonality (indicators)\n",
    "    additional_terms=[fourier],  # annual seasonality (fourier)\n",
    "    drop=True,                   # drop terms to avoid collinearity\n",
    ")\n",
    "\n",
    "X = dp.in_sample()"
   ]
  },
  {
   "cell_type": "code",
   "execution_count": 28,
   "id": "18580600",
   "metadata": {},
   "outputs": [
    {
     "data": {
      "text/html": [
       "<div>\n",
       "<style scoped>\n",
       "    .dataframe tbody tr th:only-of-type {\n",
       "        vertical-align: middle;\n",
       "    }\n",
       "\n",
       "    .dataframe tbody tr th {\n",
       "        vertical-align: top;\n",
       "    }\n",
       "\n",
       "    .dataframe thead th {\n",
       "        text-align: right;\n",
       "    }\n",
       "</style>\n",
       "<table border=\"1\" class=\"dataframe\">\n",
       "  <thead>\n",
       "    <tr style=\"text-align: right;\">\n",
       "      <th></th>\n",
       "      <th>const</th>\n",
       "      <th>trend</th>\n",
       "      <th>s(2,12)</th>\n",
       "      <th>s(3,12)</th>\n",
       "      <th>s(4,12)</th>\n",
       "      <th>s(5,12)</th>\n",
       "      <th>s(6,12)</th>\n",
       "      <th>s(7,12)</th>\n",
       "      <th>s(8,12)</th>\n",
       "      <th>s(9,12)</th>\n",
       "      <th>...</th>\n",
       "      <th>cos(1,freq=A-DEC)</th>\n",
       "      <th>sin(2,freq=A-DEC)</th>\n",
       "      <th>cos(2,freq=A-DEC)</th>\n",
       "      <th>sin(3,freq=A-DEC)</th>\n",
       "      <th>cos(3,freq=A-DEC)</th>\n",
       "      <th>sin(4,freq=A-DEC)</th>\n",
       "      <th>cos(4,freq=A-DEC)</th>\n",
       "      <th>sin(5,freq=A-DEC)</th>\n",
       "      <th>cos(5,freq=A-DEC)</th>\n",
       "      <th>sin(6,freq=A-DEC)</th>\n",
       "    </tr>\n",
       "    <tr>\n",
       "      <th>Period</th>\n",
       "      <th></th>\n",
       "      <th></th>\n",
       "      <th></th>\n",
       "      <th></th>\n",
       "      <th></th>\n",
       "      <th></th>\n",
       "      <th></th>\n",
       "      <th></th>\n",
       "      <th></th>\n",
       "      <th></th>\n",
       "      <th></th>\n",
       "      <th></th>\n",
       "      <th></th>\n",
       "      <th></th>\n",
       "      <th></th>\n",
       "      <th></th>\n",
       "      <th></th>\n",
       "      <th></th>\n",
       "      <th></th>\n",
       "      <th></th>\n",
       "      <th></th>\n",
       "    </tr>\n",
       "  </thead>\n",
       "  <tbody>\n",
       "    <tr>\n",
       "      <th>2015-01</th>\n",
       "      <td>1.0</td>\n",
       "      <td>1.0</td>\n",
       "      <td>0.0</td>\n",
       "      <td>0.0</td>\n",
       "      <td>0.0</td>\n",
       "      <td>0.0</td>\n",
       "      <td>0.0</td>\n",
       "      <td>0.0</td>\n",
       "      <td>0.0</td>\n",
       "      <td>0.0</td>\n",
       "      <td>...</td>\n",
       "      <td>1.000000</td>\n",
       "      <td>0.000000</td>\n",
       "      <td>1.000000</td>\n",
       "      <td>0.000000</td>\n",
       "      <td>1.000000</td>\n",
       "      <td>0.000000</td>\n",
       "      <td>1.000000</td>\n",
       "      <td>0.000000</td>\n",
       "      <td>1.000000</td>\n",
       "      <td>0.000000</td>\n",
       "    </tr>\n",
       "    <tr>\n",
       "      <th>2015-02</th>\n",
       "      <td>1.0</td>\n",
       "      <td>2.0</td>\n",
       "      <td>1.0</td>\n",
       "      <td>0.0</td>\n",
       "      <td>0.0</td>\n",
       "      <td>0.0</td>\n",
       "      <td>0.0</td>\n",
       "      <td>0.0</td>\n",
       "      <td>0.0</td>\n",
       "      <td>0.0</td>\n",
       "      <td>...</td>\n",
       "      <td>0.860961</td>\n",
       "      <td>0.875892</td>\n",
       "      <td>0.482508</td>\n",
       "      <td>0.999546</td>\n",
       "      <td>-0.030120</td>\n",
       "      <td>0.845249</td>\n",
       "      <td>-0.534373</td>\n",
       "      <td>0.455907</td>\n",
       "      <td>-0.890028</td>\n",
       "      <td>-0.060213</td>\n",
       "    </tr>\n",
       "    <tr>\n",
       "      <th>2015-03</th>\n",
       "      <td>1.0</td>\n",
       "      <td>3.0</td>\n",
       "      <td>0.0</td>\n",
       "      <td>1.0</td>\n",
       "      <td>0.0</td>\n",
       "      <td>0.0</td>\n",
       "      <td>0.0</td>\n",
       "      <td>0.0</td>\n",
       "      <td>0.0</td>\n",
       "      <td>0.0</td>\n",
       "      <td>...</td>\n",
       "      <td>0.527078</td>\n",
       "      <td>0.895839</td>\n",
       "      <td>-0.444378</td>\n",
       "      <td>0.094537</td>\n",
       "      <td>-0.995521</td>\n",
       "      <td>-0.796183</td>\n",
       "      <td>-0.605056</td>\n",
       "      <td>-0.933837</td>\n",
       "      <td>0.357698</td>\n",
       "      <td>-0.188227</td>\n",
       "    </tr>\n",
       "    <tr>\n",
       "      <th>2015-04</th>\n",
       "      <td>1.0</td>\n",
       "      <td>4.0</td>\n",
       "      <td>0.0</td>\n",
       "      <td>0.0</td>\n",
       "      <td>1.0</td>\n",
       "      <td>0.0</td>\n",
       "      <td>0.0</td>\n",
       "      <td>0.0</td>\n",
       "      <td>0.0</td>\n",
       "      <td>0.0</td>\n",
       "      <td>...</td>\n",
       "      <td>0.021516</td>\n",
       "      <td>0.043022</td>\n",
       "      <td>-0.999074</td>\n",
       "      <td>-0.997917</td>\n",
       "      <td>-0.064508</td>\n",
       "      <td>-0.085965</td>\n",
       "      <td>0.996298</td>\n",
       "      <td>0.994218</td>\n",
       "      <td>0.107381</td>\n",
       "      <td>0.128748</td>\n",
       "    </tr>\n",
       "    <tr>\n",
       "      <th>2015-05</th>\n",
       "      <td>1.0</td>\n",
       "      <td>5.0</td>\n",
       "      <td>0.0</td>\n",
       "      <td>0.0</td>\n",
       "      <td>0.0</td>\n",
       "      <td>1.0</td>\n",
       "      <td>0.0</td>\n",
       "      <td>0.0</td>\n",
       "      <td>0.0</td>\n",
       "      <td>0.0</td>\n",
       "      <td>...</td>\n",
       "      <td>-0.474951</td>\n",
       "      <td>-0.835925</td>\n",
       "      <td>-0.548843</td>\n",
       "      <td>-0.085965</td>\n",
       "      <td>0.996298</td>\n",
       "      <td>0.917584</td>\n",
       "      <td>-0.397543</td>\n",
       "      <td>-0.785650</td>\n",
       "      <td>-0.618671</td>\n",
       "      <td>-0.171293</td>\n",
       "    </tr>\n",
       "    <tr>\n",
       "      <th>...</th>\n",
       "      <td>...</td>\n",
       "      <td>...</td>\n",
       "      <td>...</td>\n",
       "      <td>...</td>\n",
       "      <td>...</td>\n",
       "      <td>...</td>\n",
       "      <td>...</td>\n",
       "      <td>...</td>\n",
       "      <td>...</td>\n",
       "      <td>...</td>\n",
       "      <td>...</td>\n",
       "      <td>...</td>\n",
       "      <td>...</td>\n",
       "      <td>...</td>\n",
       "      <td>...</td>\n",
       "      <td>...</td>\n",
       "      <td>...</td>\n",
       "      <td>...</td>\n",
       "      <td>...</td>\n",
       "      <td>...</td>\n",
       "      <td>...</td>\n",
       "    </tr>\n",
       "    <tr>\n",
       "      <th>2019-12</th>\n",
       "      <td>1.0</td>\n",
       "      <td>60.0</td>\n",
       "      <td>0.0</td>\n",
       "      <td>0.0</td>\n",
       "      <td>0.0</td>\n",
       "      <td>0.0</td>\n",
       "      <td>0.0</td>\n",
       "      <td>0.0</td>\n",
       "      <td>0.0</td>\n",
       "      <td>0.0</td>\n",
       "      <td>...</td>\n",
       "      <td>0.860961</td>\n",
       "      <td>-0.875892</td>\n",
       "      <td>0.482508</td>\n",
       "      <td>-0.999546</td>\n",
       "      <td>-0.030120</td>\n",
       "      <td>-0.845249</td>\n",
       "      <td>-0.534373</td>\n",
       "      <td>-0.455907</td>\n",
       "      <td>-0.890028</td>\n",
       "      <td>0.060213</td>\n",
       "    </tr>\n",
       "    <tr>\n",
       "      <th>2020-01</th>\n",
       "      <td>1.0</td>\n",
       "      <td>61.0</td>\n",
       "      <td>0.0</td>\n",
       "      <td>0.0</td>\n",
       "      <td>0.0</td>\n",
       "      <td>0.0</td>\n",
       "      <td>0.0</td>\n",
       "      <td>0.0</td>\n",
       "      <td>0.0</td>\n",
       "      <td>0.0</td>\n",
       "      <td>...</td>\n",
       "      <td>1.000000</td>\n",
       "      <td>0.000000</td>\n",
       "      <td>1.000000</td>\n",
       "      <td>0.000000</td>\n",
       "      <td>1.000000</td>\n",
       "      <td>0.000000</td>\n",
       "      <td>1.000000</td>\n",
       "      <td>0.000000</td>\n",
       "      <td>1.000000</td>\n",
       "      <td>0.000000</td>\n",
       "    </tr>\n",
       "    <tr>\n",
       "      <th>2020-02</th>\n",
       "      <td>1.0</td>\n",
       "      <td>62.0</td>\n",
       "      <td>1.0</td>\n",
       "      <td>0.0</td>\n",
       "      <td>0.0</td>\n",
       "      <td>0.0</td>\n",
       "      <td>0.0</td>\n",
       "      <td>0.0</td>\n",
       "      <td>0.0</td>\n",
       "      <td>0.0</td>\n",
       "      <td>...</td>\n",
       "      <td>0.861702</td>\n",
       "      <td>0.874481</td>\n",
       "      <td>0.485060</td>\n",
       "      <td>0.999668</td>\n",
       "      <td>-0.025748</td>\n",
       "      <td>0.848351</td>\n",
       "      <td>-0.529434</td>\n",
       "      <td>0.462383</td>\n",
       "      <td>-0.886680</td>\n",
       "      <td>-0.051479</td>\n",
       "    </tr>\n",
       "    <tr>\n",
       "      <th>2020-03</th>\n",
       "      <td>1.0</td>\n",
       "      <td>63.0</td>\n",
       "      <td>0.0</td>\n",
       "      <td>1.0</td>\n",
       "      <td>0.0</td>\n",
       "      <td>0.0</td>\n",
       "      <td>0.0</td>\n",
       "      <td>0.0</td>\n",
       "      <td>0.0</td>\n",
       "      <td>0.0</td>\n",
       "      <td>...</td>\n",
       "      <td>0.514793</td>\n",
       "      <td>0.882679</td>\n",
       "      <td>-0.469977</td>\n",
       "      <td>0.051479</td>\n",
       "      <td>-0.998674</td>\n",
       "      <td>-0.829677</td>\n",
       "      <td>-0.558244</td>\n",
       "      <td>-0.905702</td>\n",
       "      <td>0.423914</td>\n",
       "      <td>-0.102821</td>\n",
       "    </tr>\n",
       "    <tr>\n",
       "      <th>2020-04</th>\n",
       "      <td>1.0</td>\n",
       "      <td>64.0</td>\n",
       "      <td>0.0</td>\n",
       "      <td>0.0</td>\n",
       "      <td>1.0</td>\n",
       "      <td>0.0</td>\n",
       "      <td>0.0</td>\n",
       "      <td>0.0</td>\n",
       "      <td>0.0</td>\n",
       "      <td>0.0</td>\n",
       "      <td>...</td>\n",
       "      <td>0.008583</td>\n",
       "      <td>0.017166</td>\n",
       "      <td>-0.999853</td>\n",
       "      <td>-0.999668</td>\n",
       "      <td>-0.025748</td>\n",
       "      <td>-0.034328</td>\n",
       "      <td>0.999411</td>\n",
       "      <td>0.999079</td>\n",
       "      <td>0.042905</td>\n",
       "      <td>0.051479</td>\n",
       "    </tr>\n",
       "  </tbody>\n",
       "</table>\n",
       "<p>64 rows × 24 columns</p>\n",
       "</div>"
      ],
      "text/plain": [
       "         const  trend  s(2,12)  s(3,12)  s(4,12)  s(5,12)  s(6,12)  s(7,12)  \\\n",
       "Period                                                                        \n",
       "2015-01    1.0    1.0      0.0      0.0      0.0      0.0      0.0      0.0   \n",
       "2015-02    1.0    2.0      1.0      0.0      0.0      0.0      0.0      0.0   \n",
       "2015-03    1.0    3.0      0.0      1.0      0.0      0.0      0.0      0.0   \n",
       "2015-04    1.0    4.0      0.0      0.0      1.0      0.0      0.0      0.0   \n",
       "2015-05    1.0    5.0      0.0      0.0      0.0      1.0      0.0      0.0   \n",
       "...        ...    ...      ...      ...      ...      ...      ...      ...   \n",
       "2019-12    1.0   60.0      0.0      0.0      0.0      0.0      0.0      0.0   \n",
       "2020-01    1.0   61.0      0.0      0.0      0.0      0.0      0.0      0.0   \n",
       "2020-02    1.0   62.0      1.0      0.0      0.0      0.0      0.0      0.0   \n",
       "2020-03    1.0   63.0      0.0      1.0      0.0      0.0      0.0      0.0   \n",
       "2020-04    1.0   64.0      0.0      0.0      1.0      0.0      0.0      0.0   \n",
       "\n",
       "         s(8,12)  s(9,12)  ...  cos(1,freq=A-DEC)  sin(2,freq=A-DEC)  \\\n",
       "Period                     ...                                         \n",
       "2015-01      0.0      0.0  ...           1.000000           0.000000   \n",
       "2015-02      0.0      0.0  ...           0.860961           0.875892   \n",
       "2015-03      0.0      0.0  ...           0.527078           0.895839   \n",
       "2015-04      0.0      0.0  ...           0.021516           0.043022   \n",
       "2015-05      0.0      0.0  ...          -0.474951          -0.835925   \n",
       "...          ...      ...  ...                ...                ...   \n",
       "2019-12      0.0      0.0  ...           0.860961          -0.875892   \n",
       "2020-01      0.0      0.0  ...           1.000000           0.000000   \n",
       "2020-02      0.0      0.0  ...           0.861702           0.874481   \n",
       "2020-03      0.0      0.0  ...           0.514793           0.882679   \n",
       "2020-04      0.0      0.0  ...           0.008583           0.017166   \n",
       "\n",
       "         cos(2,freq=A-DEC)  sin(3,freq=A-DEC)  cos(3,freq=A-DEC)  \\\n",
       "Period                                                             \n",
       "2015-01           1.000000           0.000000           1.000000   \n",
       "2015-02           0.482508           0.999546          -0.030120   \n",
       "2015-03          -0.444378           0.094537          -0.995521   \n",
       "2015-04          -0.999074          -0.997917          -0.064508   \n",
       "2015-05          -0.548843          -0.085965           0.996298   \n",
       "...                    ...                ...                ...   \n",
       "2019-12           0.482508          -0.999546          -0.030120   \n",
       "2020-01           1.000000           0.000000           1.000000   \n",
       "2020-02           0.485060           0.999668          -0.025748   \n",
       "2020-03          -0.469977           0.051479          -0.998674   \n",
       "2020-04          -0.999853          -0.999668          -0.025748   \n",
       "\n",
       "         sin(4,freq=A-DEC)  cos(4,freq=A-DEC)  sin(5,freq=A-DEC)  \\\n",
       "Period                                                             \n",
       "2015-01           0.000000           1.000000           0.000000   \n",
       "2015-02           0.845249          -0.534373           0.455907   \n",
       "2015-03          -0.796183          -0.605056          -0.933837   \n",
       "2015-04          -0.085965           0.996298           0.994218   \n",
       "2015-05           0.917584          -0.397543          -0.785650   \n",
       "...                    ...                ...                ...   \n",
       "2019-12          -0.845249          -0.534373          -0.455907   \n",
       "2020-01           0.000000           1.000000           0.000000   \n",
       "2020-02           0.848351          -0.529434           0.462383   \n",
       "2020-03          -0.829677          -0.558244          -0.905702   \n",
       "2020-04          -0.034328           0.999411           0.999079   \n",
       "\n",
       "         cos(5,freq=A-DEC)  sin(6,freq=A-DEC)  \n",
       "Period                                         \n",
       "2015-01           1.000000           0.000000  \n",
       "2015-02          -0.890028          -0.060213  \n",
       "2015-03           0.357698          -0.188227  \n",
       "2015-04           0.107381           0.128748  \n",
       "2015-05          -0.618671          -0.171293  \n",
       "...                    ...                ...  \n",
       "2019-12          -0.890028           0.060213  \n",
       "2020-01           1.000000           0.000000  \n",
       "2020-02          -0.886680          -0.051479  \n",
       "2020-03           0.423914          -0.102821  \n",
       "2020-04           0.042905           0.051479  \n",
       "\n",
       "[64 rows x 24 columns]"
      ]
     },
     "execution_count": 28,
     "metadata": {},
     "output_type": "execute_result"
    }
   ],
   "source": [
    "X"
   ]
  },
  {
   "cell_type": "code",
   "execution_count": 29,
   "id": "40509620",
   "metadata": {},
   "outputs": [],
   "source": [
    "from sklearn.linear_model import LinearRegression\n"
   ]
  },
  {
   "cell_type": "code",
   "execution_count": 30,
   "id": "c97b0e03",
   "metadata": {},
   "outputs": [
    {
     "data": {
      "image/png": "[encoded data removed]",
      "text/plain": [
       "<Figure size 432x288 with 1 Axes>"
      ]
     },
     "metadata": {
      "needs_background": "light"
     },
     "output_type": "display_data"
    }
   ],
   "source": [
    "y = ts[\"Revenue\"]\n",
    "\n",
    "model = LinearRegression(fit_intercept=False)\n",
    "_ = model.fit(X, y)\n",
    "\n",
    "y_pred = pd.Series(model.predict(X), index=y.index)\n",
    "X_fore = dp.out_of_sample(steps=32)\n",
    "y_fore = pd.Series(model.predict(X_fore), index=X_fore.index)\n",
    "\n",
    "ax = y.plot(color='0.25', style='.', title=\"Tunnel Traffic - Seasonal Forecast\")\n",
    "ax = y_pred.plot(ax=ax, label=\"Seasonal\")\n",
    "ax = y_fore.plot(ax=ax, label=\"Seasonal Forecast\", color='C3')"
   ]
  },
  {
   "cell_type": "code",
   "execution_count": 33,
   "id": "697a6645",
   "metadata": {},
   "outputs": [],
   "source": [
    "from sklearn.ensemble import RandomForestRegressor"
   ]
  },
  {
   "cell_type": "code",
   "execution_count": 35,
   "id": "0a63fb59",
   "metadata": {},
   "outputs": [
    {
     "data": {
      "image/png": "[encoded data removed]",
      "text/plain": [
       "<Figure size 432x288 with 1 Axes>"
      ]
     },
     "metadata": {
      "needs_background": "light"
     },
     "output_type": "display_data"
    }
   ],
   "source": [
    "y = ts[\"Revenue\"]\n",
    "\n",
    "model = RandomForestRegressor()\n",
    "_ = model.fit(X, y)\n",
    "\n",
    "y_pred = pd.Series(model.predict(X), index=y.index)\n",
    "X_fore = dp.out_of_sample(steps=32)\n",
    "y_fore = pd.Series(model.predict(X_fore), index=X_fore.index)\n",
    "\n",
    "ax = y.plot(color='0.25', style='.', title=\"Tunnel Traffic - Seasonal Forecast\")\n",
    "ax = y_pred.plot(ax=ax, label=\"Seasonal\")\n",
    "ax = y_fore.plot(ax=ax, label=\"Seasonal Forecast\", color='C3')"
   ]
  },
  {
   "cell_type": "code",
   "execution_count": null,
   "id": "17bd0541",
   "metadata": {},
   "outputs": [],
   "source": []
  }
 ],
 "metadata": {
  "kernelspec": {
   "display_name": "Python 3 (ipykernel)",
   "language": "python",
   "name": "python3"
  },
  "language_info": {
   "codemirror_mode": {
    "name": "ipython",
    "version": 3
   },
   "file_extension": ".py",
   "mimetype": "text/x-python",
   "name": "python",
   "nbconvert_exporter": "python",
   "pygments_lexer": "ipython3",
   "version": "3.9.12"
  }
 },
 "nbformat": 4,
 "nbformat_minor": 5
}
